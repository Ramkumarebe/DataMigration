{
  "nbformat": 4,
  "nbformat_minor": 0,
  "metadata": {
    "colab": {
      "provenance": []
    },
    "kernelspec": {
      "name": "python3",
      "display_name": "Python 3"
    },
    "language_info": {
      "name": "python"
    }
  },
  "cells": [
    {
      "cell_type": "code",
      "source": [
        "!pip install boto3"
      ],
      "metadata": {
        "colab": {
          "base_uri": "https://localhost:8080/"
        },
        "id": "ujWe5S2SPUm_",
        "outputId": "945660cc-4c30-455a-cfbb-2aa8673843b4"
      },
      "execution_count": 6,
      "outputs": [
        {
          "output_type": "stream",
          "name": "stdout",
          "text": [
            "Looking in indexes: https://pypi.org/simple, https://us-python.pkg.dev/colab-wheels/public/simple/\n",
            "Requirement already satisfied: boto3 in /usr/local/lib/python3.9/dist-packages (1.26.89)\n",
            "Requirement already satisfied: s3transfer<0.7.0,>=0.6.0 in /usr/local/lib/python3.9/dist-packages (from boto3) (0.6.0)\n",
            "Requirement already satisfied: botocore<1.30.0,>=1.29.89 in /usr/local/lib/python3.9/dist-packages (from boto3) (1.29.89)\n",
            "Requirement already satisfied: jmespath<2.0.0,>=0.7.1 in /usr/local/lib/python3.9/dist-packages (from boto3) (1.0.1)\n",
            "Requirement already satisfied: urllib3<1.27,>=1.25.4 in /usr/local/lib/python3.9/dist-packages (from botocore<1.30.0,>=1.29.89->boto3) (1.26.14)\n",
            "Requirement already satisfied: python-dateutil<3.0.0,>=2.1 in /usr/local/lib/python3.9/dist-packages (from botocore<1.30.0,>=1.29.89->boto3) (2.8.2)\n",
            "Requirement already satisfied: six>=1.5 in /usr/local/lib/python3.9/dist-packages (from python-dateutil<3.0.0,>=2.1->botocore<1.30.0,>=1.29.89->boto3) (1.15.0)\n"
          ]
        }
      ]
    },
    {
      "cell_type": "code",
      "execution_count": 7,
      "metadata": {
        "id": "SvUqdrkSOL2b"
      },
      "outputs": [],
      "source": [
        "import boto3\n",
        "import requests\n",
        "import zipfile\n",
        "import json\n",
        "import io\n",
        "import logging\n"
      ]
    },
    {
      "cell_type": "code",
      "source": [
        "%env AWS_ACCESS_KEY_ID = \n",
        "%env AWS_SECRET_ACCESS_KEY = \n",
        "%env AWS_DEFAULT_REGION = ap-south-1"
      ],
      "metadata": {
        "colab": {
          "base_uri": "https://localhost:8080/"
        },
        "id": "SIvRGZBfUCrG",
        "outputId": "bde28082-eee2-4be7-9fa5-cec4b218c8eb"
      },
      "execution_count": 8,
      "outputs": [
        {
          "output_type": "stream",
          "name": "stdout",
          "text": [
            "env: AWS_ACCESS_KEY_ID=\n",
            "env: AWS_SECRET_ACCESS_KEY=\n",
            "env: AWS_DEFAULT_REGION=ap-south-1\n"
          ]
        }
      ]
    },
    {
      "cell_type": "code",
      "source": [
        "try:\n",
        "  s3 = boto3.client(service_name = \"s3\",region_name = \"ap-south-1\")\n",
        "  print(\"Sucessfully s3 client created\")\n",
        "except Exception as e:\n",
        "      logging.error(\"Failed to create s3 client: %s\", e, exc_info=True)\n",
        "      print(\"Failed to create s3 client: \", e)"
      ],
      "metadata": {
        "colab": {
          "base_uri": "https://localhost:8080/"
        },
        "id": "uuBR8dgGUs_i",
        "outputId": "8f3586de-35ef-49b6-d47e-0f92a88a9db0"
      },
      "execution_count": null,
      "outputs": [
        {
          "output_type": "stream",
          "name": "stdout",
          "text": [
            "Sucessfully s3 client created\n"
          ]
        }
      ]
    },
    {
      "cell_type": "code",
      "source": [
        "\n",
        "from botocore.exceptions import ClientError\n",
        "\n",
        "\n",
        "def create_bucket(bucket_name, region=None):\n",
        "    \"\"\"Create an S3 bucket in a specified region\n",
        "\n",
        "    If a region is not specified, the bucket is created in the S3 default\n",
        "    region (us-east-1).\n",
        "\n",
        "    :param bucket_name: Bucket to create\n",
        "    :param region: String region to create bucket in, e.g., 'us-west-2'\n",
        "    :return: True if bucket created, else False\n",
        "    \"\"\"\n",
        "\n",
        "    # Create bucket\n",
        "    try:\n",
        "        if region is None:\n",
        "            s3_client = boto3.client('s3')\n",
        "            s3_client.create_bucket(Bucket=bucket_name)\n",
        "        else:\n",
        "            s3_client = boto3.client('s3', region_name=region)\n",
        "            location = {'LocationConstraint': region}\n",
        "            s3_client.create_bucket(Bucket=bucket_name,\n",
        "                                    CreateBucketConfiguration=location)\n",
        "    except ClientError as e:\n",
        "        logging.error(e)\n",
        "        return False\n",
        "    return True"
      ],
      "metadata": {
        "id": "Opyo7DhAXxMn"
      },
      "execution_count": null,
      "outputs": []
    },
    {
      "cell_type": "code",
      "source": [
        "try:\n",
        "    s3 = boto3.client('s3')\n",
        "    response = s3.list_buckets()\n",
        "\n",
        "    # Output the bucket names\n",
        "    print('Existing buckets:')\n",
        "    for bucket in response['Buckets']:\n",
        "        print(f'  {bucket[\"Name\"]}')\n",
        "except ClientError as e:\n",
        "  print(f'Error: {e}')"
      ],
      "metadata": {
        "colab": {
          "base_uri": "https://localhost:8080/"
        },
        "id": "wu1EJxQmYBM-",
        "outputId": "e9f13abf-c80f-4120-b998-68a4313d1214"
      },
      "execution_count": null,
      "outputs": [
        {
          "output_type": "stream",
          "name": "stdout",
          "text": [
            "Existing buckets:\n",
            "  submissionsproj1\n"
          ]
        }
      ]
    },
    {
      "cell_type": "code",
      "source": [
        "create_bucket(\"submissionsproj1\",region = \"ap-south-1\")"
      ],
      "metadata": {
        "colab": {
          "base_uri": "https://localhost:8080/"
        },
        "id": "hsj04oKIlH5d",
        "outputId": "511ecc0e-e9bd-47ad-8bb9-28efd007c22a"
      },
      "execution_count": null,
      "outputs": [
        {
          "output_type": "execute_result",
          "data": {
            "text/plain": [
              "True"
            ]
          },
          "metadata": {},
          "execution_count": 7
        }
      ]
    },
    {
      "cell_type": "code",
      "source": [
        "from io import BytesIO\n",
        "\n",
        "headers = {'User-Agent': 'Mozilla/5.0 (Windows NT 10.0; Win64; x64) AppleWebKit/537.36 (KHTML, like Gecko) Chrome/96.0.4664.93 Safari/537.36'}\n",
        "url = \"https://www.sec.gov/Archives/edgar/daily-index/bulkdata/submissions.zip\"\n",
        "\n",
        "\n",
        "# Download the zip file from the URL\n",
        "response = requests.get(url,headers=headers)\n",
        "content = response.content\n",
        "\n",
        "\n",
        "\n"
      ],
      "metadata": {
        "id": "S5WKvgvBzR9c"
      },
      "execution_count": null,
      "outputs": []
    },
    {
      "cell_type": "code",
      "source": [
        "bucket_name = \"submissionsproj1\"\n",
        "file_path = \"datadump/Archive.zip\"\n",
        "try:\n",
        "  with open(file_path, \"rb\") as file:\n",
        "        content = file.read()\n",
        "        with boto3.client(\"s3\") as s3:\n",
        "          s3.put_object(Bucket=bucket_name, Key=file_path, Body=content)\n",
        "  print(\"Success\")\n",
        "except Exception as e:\n",
        "  print(e)"
      ],
      "metadata": {
        "colab": {
          "base_uri": "https://localhost:8080/"
        },
        "id": "dRZnRfdA-cU3",
        "outputId": "3b357c2a-2cdb-421d-f0cf-6df6d5e9cb18"
      },
      "execution_count": null,
      "outputs": [
        {
          "output_type": "stream",
          "name": "stdout",
          "text": [
            "Success\n"
          ]
        }
      ]
    },
    {
      "cell_type": "code",
      "source": [
        "try:\n",
        "  bucket_name = \"submissionsproj1\"\n",
        "  file_name = \"datadump/Archive.zip\"\n",
        "  obj = s3.get_object(Bucket = bucket_name, Key = file_path)\n",
        "  zip_file = io.BytesIO(obj[\"Body\"].read())\n",
        "  with zipfile.ZipFile(zip_file) as z:\n",
        "    z.extractall()\n",
        "  count= 0\n",
        "  for file in z.namelist():\n",
        "    count += 1\n",
        "     \n",
        "    s3.upload_file(Filename = file, Bucket = bucket_name ,Key = \"silver/\"+ file)\n",
        "    if count >=50:\n",
        "      break  \n",
        "  print(\"success\")\n",
        "except Exception as e:\n",
        "  print(e)\n"
      ],
      "metadata": {
        "id": "0oZ4r9qE7kAv",
        "colab": {
          "base_uri": "https://localhost:8080/"
        },
        "outputId": "02ddf1f4-f396-4997-c676-6052c51d03c0"
      },
      "execution_count": null,
      "outputs": [
        {
          "output_type": "stream",
          "name": "stdout",
          "text": [
            "success\n"
          ]
        }
      ]
    },
    {
      "cell_type": "code",
      "source": [
        "import re\n",
        "\n",
        "s3 = boto3.resource('s3')\n",
        "\n",
        "bucket_name = 'submissionsproj1'\n",
        "\n",
        "prefix = 'silver/'\n",
        "pattern = r'^silver\\/[A-Z]{3}\\d{10}-submissions\\-\\d{3}\\.json$'\n",
        "\n",
        "bucket = s3.Bucket(bucket_name)\n",
        "\n",
        "for obj in bucket.objects.filter(Prefix=prefix):\n",
        "  if re.match(pattern,obj.key):\n",
        "    print('Match found!')\n",
        "    obj.delete()\n",
        "  else:\n",
        "    print('No match.')\n"
      ],
      "metadata": {
        "id": "cYbKsRM3TpA4"
      },
      "execution_count": null,
      "outputs": []
    },
    {
      "cell_type": "code",
      "source": [
        "\n",
        "s3 = boto3.client('s3')\n",
        "dynamodb = boto3.resource('dynamodb')\n",
        "\n",
        "bucket_name = 'submissionsproj1'\n",
        "prefix = 'silver/'\n",
        "\n",
        "table_name = 'Proj1table'\n",
        "table = dynamodb.Table(table_name)\n",
        "try:\n",
        "\n",
        "  response = s3.list_objects_v2(Bucket=bucket_name, Prefix=prefix)\n",
        "  for obj in response.get('Contents', []):\n",
        "      key = obj['Key']\n",
        "      if key.endswith('.json'):\n",
        "          # Read the contents of the file\n",
        "          obj = s3.get_object(Bucket=bucket_name, Key=key)\n",
        "          contents = obj['Body'].read().decode('utf-8')\n",
        "\n",
        "          # Parse the JSON data\n",
        "          data = json.loads(contents)\n",
        "          table.put_item(Item=data)\n",
        "except Exception as e:\n",
        "    print(f'An error occurred: {e}')\n"
      ],
      "metadata": {
        "id": "aTUd3r1xOeSh"
      },
      "execution_count": null,
      "outputs": []
    },
    {
      "cell_type": "code",
      "source": [],
      "metadata": {
        "id": "Q07J_K0aSgIL"
      },
      "execution_count": null,
      "outputs": []
    }
  ]
}
